{
  "cells": [
    {
      "cell_type": "markdown",
      "metadata": {
        "id": "view-in-github",
        "colab_type": "text"
      },
      "source": [
        "<a href=\"https://colab.research.google.com/github/Thibisay/Proyecto-SIC-cubitUCV/blob/main/Analisis%20de%20datos/main.ipynb\" target=\"_parent\"><img src=\"https://colab.research.google.com/assets/colab-badge.svg\" alt=\"Open In Colab\"/></a>"
      ]
    },
    {
      "cell_type": "code",
      "execution_count": null,
      "metadata": {
        "id": "TmDoAdUWhvwl"
      },
      "outputs": [],
      "source": [
        "#@title Importaciones\n",
        "from transformers import pipeline, AutoTokenizer, AutoModelForSeq2SeqLM\n",
        "import kagglehub, pandas as pd, os\n",
        "import numpy\n",
        "import pandas as pd\n",
        "import matplotlib.pyplot as plt\n",
        "import seaborn as sns\n"
      ]
    },
    {
      "cell_type": "code",
      "execution_count": null,
      "metadata": {
        "id": "IRCVS3f_i36W"
      },
      "outputs": [],
      "source": [
        "#@title Si estas desde colab\n",
        "path = kagglehub.dataset_download(\"svanoo/myanimelist-dataset\")\n",
        "\n",
        "#Seleccionando el archivo con los animes\n",
        "anime_dataset = pd.read_csv(f\"{path}/anime.csv\", sep = '\\t',on_bad_lines='skip')\n",
        "anime_emotion = pd.read_csv(\"./anime_emotion.csv\")"
      ]
    },
    {
      "cell_type": "code",
      "execution_count": null,
      "metadata": {
        "collapsed": true,
        "id": "0jnXQYs2i8xF"
      },
      "outputs": [],
      "source": [
        "#@title Si no estas en colab\n",
        "\n",
        "anime_dataset = pd.read_csv(\"./anime.csv\", sep = '\\t',on_bad_lines='skip')\n",
        "anime_emotion = pd.read_csv(\"./anime_emotion.csv\")"
      ]
    },
    {
      "cell_type": "code",
      "execution_count": null,
      "metadata": {
        "id": "5Qydqt5bhvwm"
      },
      "outputs": [],
      "source": [
        "#@title importacion de archivos y formateo de columnas\n",
        "\n",
        "anime_dataset.columns = anime_dataset.columns.str.lower()\n",
        "anime_dataset.columns = anime_dataset.columns.str.replace(' ', '_')"
      ]
    },
    {
      "cell_type": "code",
      "execution_count": null,
      "metadata": {
        "id": "4yy3ZO3Dhvwm"
      },
      "outputs": [],
      "source": [
        "anime_dataset = anime_dataset[anime_dataset['anime_id'] != 44303] # anime que cumple con los 200 caracteres en synopsis pero no contiene datos utiles para su estudio\n",
        "anime_dataset_filt = pd.DataFrame(anime_dataset[ anime_dataset[\"synopsis\"].str.len() >= 200 ])\n",
        "anime_dataset_filt = anime_dataset_filt.sort_values(by='popularity_rank')\n",
        "anime_dataset_filt = anime_dataset_filt.dropna(subset=['score'])\n",
        "anime_dataset_filt.index = range(0,len(anime_dataset_filt))\n"
      ]
    },
    {
      "cell_type": "code",
      "execution_count": null,
      "metadata": {
        "cellView": "form",
        "id": "DXiNKyNYhvwn"
      },
      "outputs": [],
      "source": [
        "#@title normalizacion de los generos\n",
        "anime_dataset_filt['genres'] = anime_dataset_filt['genres'].apply(lambda x: x.split('|'))\n",
        "data_generos = pd.DataFrame(list(set(elemento for sublista in anime_dataset_filt['genres'] for elemento in sublista)), columns=['genres_name'])\n",
        "anime_genres_relation = anime_dataset_filt.explode('genres')[[\"anime_id\", \"genres\"]] # expande anime_dataset_filt para dividir las listas en filas individuales\n",
        "\n",
        "data_generos = anime_genres_relation.groupby('genres').size().reset_index(name='cantidad') # Agrupamos por el género y contamos la cantidad de animes en cada uno\n",
        "data_generos.columns = ['genres_name', 'cantidad']\n",
        "\n",
        "data_generos"
      ]
    },
    {
      "cell_type": "code",
      "execution_count": null,
      "metadata": {
        "cellView": "form",
        "collapsed": true,
        "id": "M-mDu4gShvwn"
      },
      "outputs": [],
      "source": [
        "#@title Eliminando columnas\n",
        "\n",
        "col_delete_list = [\"genres\",\"score_count\", \"score_rank\",\"type\", \"status\", \"num_episodes\", \"start_date\",\n",
        "                   \"end_date\", \"season\", \"studios\", \"clubs\", \"score_01_count\",\n",
        "                   \"score_02_count\", \"score_03_count\", \"score_04_count\", \"score_05_count\",\n",
        "                   \"score_06_count\", \"score_07_count\", \"score_08_count\", \"score_09_count\",\n",
        "                   \"score_10_count\", \"num_episodes\", \"watching_count\",\n",
        "                   \"completed_count\",\"on_hold_count\",\"dropped_count\"]\n",
        "\n",
        "filter_columns = list(filter(lambda x: True if x not in col_delete_list else False, list(anime_dataset_filt.columns)))\n",
        "\n",
        "anime_dataset_filt = anime_dataset_filt[filter_columns]\n",
        "\n",
        "anime_dataset_filt['longitud_synopsis_caracteres'] = anime_dataset_filt['synopsis'].apply(len)\n"
      ]
    },
    {
      "cell_type": "code",
      "execution_count": null,
      "metadata": {
        "cellView": "form",
        "id": "BIE5oFnMv-ln"
      },
      "outputs": [],
      "source": [
        "#@title Analisis de correlacion entre longitud de sinopsis y la puntuacion\n",
        "\n",
        "correlacion_longSynop_populRank = anime_dataset_filt.select_dtypes(include=[float,int]).corr()\n",
        "\n",
        "correlacion_longSynop_populRank"
      ]
    },
    {
      "cell_type": "code",
      "execution_count": null,
      "metadata": {
        "cellView": "form",
        "id": "4vknVrn0hvwn"
      },
      "outputs": [],
      "source": [
        "#@title Analisis de correlacion entre longitud de sinopsis y la puntuacion\n",
        "correlacion_longSynop_score = anime_dataset_filt[['longitud_synopsis_caracteres', 'score']].corr()\n",
        "\n",
        "\n",
        "# plt.scatter(anime_dataset_filt['longitud_synopsis_caracteres'], anime_dataset_filt['score'], color='blue')\n",
        "# plt.title('Relación entre Longitud de la Sinopsis y Rango de Popularidad')\n",
        "# plt.xlabel('Longitud de la Sinopsis')\n",
        "# plt.ylabel('La puntuación')\n",
        "# plt.show()\n",
        "anime_dataset_filt[['longitud_synopsis_caracteres', 'score']]\n",
        "anime_dataset_filt.groupby('score').agg({'score':'count'})\n",
        "correlacion_longSynop_score\n",
        "# anime_dataset_filt[[\"genres\", \"anime_id\"]]"
      ]
    },
    {
      "cell_type": "code",
      "execution_count": null,
      "metadata": {
        "cellView": "form",
        "collapsed": true,
        "id": "r_F2IomKh45t"
      },
      "outputs": [],
      "source": [
        "#@title Modelo de IA, no ejecutar si estas en vsc\n",
        "\n",
        "\n",
        "# Cargar un pipeline de clasificación de emociones\n",
        "classifier = pipeline(\"text-classification\", model=\"j-hartmann/emotion-english-distilroberta-base\", return_all_scores=True)\n",
        "\n",
        "# Función para analizar emociones de un texto dado\n",
        "def detectar_emociones(texto):\n",
        "    resultados = classifier(texto)#aja yo estoy aqui\n",
        "    # Procesar y mostrar los resultados de manera ordenada\n",
        "    emociones = {resultado['label']: resultado['score'] for resultado in resultados[0]}\n",
        "    emociones_ordenadas = sorted(emociones.items(), key=lambda item: item[1], reverse=True)\n",
        "\n",
        "    return emociones_ordenadas\n",
        "\n",
        "# Ejemplo de uso\n",
        "texto = \"I'm going under and this time I fear there's no one to save me\"\n",
        "\n",
        "emociones_detectadas = detectar_emociones(texto)\n",
        "\n",
        "def print_results(emociones_detectadas):\n",
        "  print(\"Emociones detectadas:\")\n",
        "  for emocion, puntaje in emociones_detectadas:\n",
        "      print(f\"{emocion}: {puntaje:.2f}\")\n",
        "\n",
        "\n"
      ]
    },
    {
      "cell_type": "code",
      "execution_count": null,
      "metadata": {
        "cellView": "form",
        "collapsed": true,
        "id": "c04z9NlonKQW"
      },
      "outputs": [],
      "source": [
        "#@title Otro modelo no ejecutar\n",
        "\n",
        "\n",
        "# Cargar el modelo y el tokenizador T5 ajustado para emociones\n",
        "modelo_id = \"mrm8488/t5-base-finetuned-emotion\"\n",
        "tokenizer = AutoTokenizer.from_pretrained(modelo_id)\n",
        "modelo = AutoModelForSeq2SeqLM.from_pretrained(modelo_id)\n",
        "\n",
        "# Función para detectar la emoción principal en un texto dado\n",
        "def detectar_emocion_t5(texto):\n",
        "    # Preprocesar el texto para el modelo T5\n",
        "    entradas = tokenizer(\"emotion: \" + texto, return_tensors=\"pt\", padding=True)\n",
        "\n",
        "    # Generar la emoción usando el modelo\n",
        "    salida = modelo.generate(**entradas)\n",
        "\n",
        "    # Decodificar la emoción generada\n",
        "    emocion = tokenizer.decode(salida[0], skip_special_tokens=True)\n",
        "    return emocion\n",
        "\n"
      ]
    },
    {
      "cell_type": "code",
      "execution_count": null,
      "metadata": {
        "cellView": "form",
        "id": "KpzUr7kdiCsl"
      },
      "outputs": [],
      "source": [
        "#@title Clasificacion por emociones\n",
        "\n",
        "anime_dataset_filt[[\"title\", \"synopsis\"]].head()\n",
        "synopsis = anime_dataset_filt[\"synopsis\"].head()\n",
        "emociones_animes = pd.read_csv('anime_emotion.csv')\n",
        "i = 0\n",
        "for element in anime_dataset_filt[[\"anime_id\",\"title\", \"synopsis\"]][len(emociones_animes):].itertuples():\n",
        "  i += 1\n",
        "  emociones_animes.loc[len(emociones_animes)] = [element.anime_id, detectar_emocion_t5(element.synopsis)]\n",
        "  print(i)\n",
        "\n",
        "  emociones_animes.to_csv(\"anime_emotion.csv\", index=False)"
      ]
    },
    {
      "cell_type": "code",
      "execution_count": null,
      "metadata": {
        "collapsed": true,
        "id": "OFxkNfNXHdcH"
      },
      "outputs": [],
      "source": [
        "#@title merge entre los animes y los generos\n",
        "\n",
        "\n",
        "anime_dataset_filt\n",
        "group_genres = list(anime_genres_relation.groupby(\"genres\"))\n",
        "merged_df = pd.merge(anime_dataset_filt, anime_genres_relation, on=\"anime_id\", how=\"left\")\n",
        "merged_df = pd.merge(merged_df, anime_emotion, on=\"anime_id\", how=\"left\")\n",
        "#merged_df.corr()\n",
        "merged_df"
      ]
    },
    {
      "cell_type": "code",
      "execution_count": null,
      "metadata": {
        "id": "C5w1QBDXZH16"
      },
      "outputs": [],
      "source": [
        "#@title Grafico de score promedio por genero\n",
        "# Grafico de la media\n",
        "df = merged_df.groupby(\"genres\")[\"score\"].agg(['mean','median','std', 'count']).sort_values(by=\"count\", ascending=False)\n",
        "df[['mean']].plot(kind=\"bar\", color=\"skyblue\", edgecolor=\"black\")\n",
        "plt.title(\"Media en puntaje por género\", fontsize=16)\n",
        "plt.xlabel(\"Género\", fontsize=12)\n",
        "plt.ylabel(\"Puntaje promedio\", fontsize=12)\n",
        "plt.xticks(rotation=90, fontsize=10)\n",
        "plt.grid(axis=\"y\", linestyle=\"--\", alpha=0.7)\n",
        "\n",
        "# Mostrar el gráfico\n",
        "plt.tight_layout()  # Ajustar para evitar recortes\n",
        "plt.show()\n",
        "\n",
        "# Grafico de la mediana\n",
        "df[['median']].plot(kind=\"bar\", color=\"skyblue\", edgecolor=\"black\")\n",
        "plt.title(\"Mediana en puntaje por género\", fontsize=16)\n",
        "plt.xlabel(\"Género\", fontsize=12)\n",
        "plt.ylabel(\"Puntaje promedio\", fontsize=12)\n",
        "plt.xticks(rotation=90, fontsize=10)\n",
        "plt.grid(axis=\"y\", linestyle=\"--\", alpha=0.7)\n",
        "plt.tight_layout()  # Ajustar para evitar recortes\n",
        "plt.show()\n",
        "\n",
        "# Grafico de la mediana\n",
        "df[['std']].plot(kind=\"bar\", color=\"skyblue\", edgecolor=\"black\")\n",
        "plt.title(\"Varianza de la puntuación por género\", fontsize=16)\n",
        "plt.xlabel(\"Género\", fontsize=12)\n",
        "plt.ylabel(\"Varianza\", fontsize=12)\n",
        "plt.xticks(rotation=90, fontsize=10)\n",
        "plt.grid(axis=\"y\", linestyle=\"--\", alpha=0.7)\n",
        "plt.tight_layout()  # Ajustar para evitar recortes\n",
        "plt.show()\n",
        "\n"
      ]
    },
    {
      "cell_type": "code",
      "execution_count": null,
      "metadata": {
        "collapsed": true,
        "id": "wSKmWHcSIhxJ"
      },
      "outputs": [],
      "source": [
        "#@title Correlación entre los géneros y el score\n",
        "import seaborn as sns\n",
        "\n",
        "df_encoded = pd.get_dummies(merged_df[['score','genres']], columns=['genres'])\n",
        "genre_score_corr = df_encoded.corr()['score'].drop('score')\n",
        "genre_score_corr.sort_values(ascending=False).plot(kind='bar', color='skyblue', edgecolor='black')\n",
        "plt.title('Correlación entre géneros y puntaje')\n",
        "plt.xlabel('Género')\n",
        "plt.ylabel('Correlación')\n",
        "plt.xticks(rotation=90, fontsize=7)\n",
        "plt.tight_layout()\n",
        "plt.show()\n",
        "\n",
        "plt.figure(figsize=(10, 8))\n",
        "sns.heatmap(df_encoded.corr(), annot=False, cmap='coolwarm', fmt=\".2f\")\n",
        "plt.title('Mapa de calor de correlaciones')\n",
        "plt.show()"
      ]
    },
    {
      "cell_type": "code",
      "execution_count": null,
      "metadata": {
        "id": "9srLXn0Uf3FR"
      },
      "outputs": [],
      "source": [
        "#@title Analisis de emociones con la puntuación\n",
        "\n",
        "#@title Grafico de score promedio por genero\n",
        "# Grafico de la media\n",
        "df = merged_df.groupby(\"emotion\")[\"score\"].agg(['mean','median','std', 'count']).sort_values(by=\"count\", ascending=False)\n",
        "df[['mean']].plot(kind=\"bar\", color=\"skyblue\", edgecolor=\"black\", legend=False)\n",
        "plt.title(\"Media en puntaje por emoción\", fontsize=16)\n",
        "plt.xlabel(\"Emoción\", fontsize=12)\n",
        "plt.ylabel(\"Puntaje promedio\", fontsize=12)\n",
        "plt.xticks(rotation=90, fontsize=10)\n",
        "plt.grid(axis=\"y\", linestyle=\"--\", alpha=0.7)\n",
        "\n",
        "# Mostrar el gráfico\n",
        "plt.tight_layout()  # Ajustar para evitar recortes\n",
        "plt.show()\n",
        "\n",
        "# Grafico de la mediana\n",
        "df[['median']].plot(kind=\"bar\", color=\"skyblue\", edgecolor=\"black\", legend=False)\n",
        "plt.title(\"Mediana en puntaje por emoción\", fontsize=16)\n",
        "plt.xlabel(\"Emoción\", fontsize=12)\n",
        "plt.ylabel(\"Puntaje promedio\", fontsize=12)\n",
        "plt.xticks(rotation=90, fontsize=10)\n",
        "plt.grid(axis=\"y\", linestyle=\"--\", alpha=0.7)\n",
        "plt.tight_layout()  # Ajustar para evitar recortes\n",
        "plt.show()\n",
        "\n",
        "# Grafico de la mediana\n",
        "df[['std']].plot(kind=\"bar\", color=\"skyblue\", edgecolor=\"black\", legend=False)\n",
        "plt.title(\"Varianza de la puntuación por emoción\", fontsize=16)\n",
        "plt.xlabel(\"Emoción\", fontsize=12)\n",
        "plt.ylabel(\"Varianza\", fontsize=12)\n",
        "plt.xticks(rotation=90, fontsize=10)\n",
        "plt.grid(axis=\"y\", linestyle=\"--\", alpha=0.7)\n",
        "plt.tight_layout()  # Ajustar para evitar recortes\n",
        "plt.show()\n",
        "\n"
      ]
    },
    {
      "cell_type": "code",
      "execution_count": null,
      "metadata": {
        "id": "JxiHg32RlKwp"
      },
      "outputs": [],
      "source": [
        "#@title Correlación entre las emociones y el score\n",
        "import seaborn as sns\n",
        "\n",
        "df_encoded = pd.get_dummies(merged_df[['score','emotion']], columns=['emotion'])\n",
        "genre_score_corr = df_encoded.corr()['score'].drop('score')\n",
        "genre_score_corr.sort_values(ascending=False).plot(kind='bar', color='skyblue', edgecolor='black')\n",
        "plt.title('Correlación entre emociones y puntaje')\n",
        "plt.xlabel('Emoción')\n",
        "plt.ylabel('Correlación')\n",
        "plt.xticks(rotation=90, fontsize=7)\n",
        "plt.tight_layout()\n",
        "plt.show()\n",
        "\n",
        "plt.figure(figsize=(10, 8))\n",
        "sns.heatmap(df_encoded.corr(), annot=True, cmap='coolwarm', fmt=\".2f\")\n",
        "plt.title('Mapa de calor de correlaciones')\n",
        "plt.show()"
      ]
    },
    {
      "cell_type": "code",
      "execution_count": null,
      "metadata": {
        "id": "6BU_BorJKnJM"
      },
      "outputs": [],
      "source": [
        "#@title media,mediana,varianza - popularidad\n",
        "\n",
        "# Grafico de la media\n",
        "df = merged_df.groupby(\"genres\")[\"popularity_rank\"].agg(['mean','median','std', 'count']).sort_values(by=\"count\", ascending=False)\n",
        "df[['mean']].plot(kind=\"bar\", color=\"skyblue\", edgecolor=\"black\")\n",
        "plt.title(\"Media en puntaje por popularidad\", fontsize=16)\n",
        "plt.xlabel(\"popularidad\", fontsize=12)\n",
        "plt.ylabel(\"Puntaje promedio\", fontsize=12)\n",
        "plt.xticks(rotation=90, fontsize=10)\n",
        "plt.grid(axis=\"y\", linestyle=\"--\", alpha=0.7)\n"
      ]
    },
    {
      "cell_type": "code",
      "execution_count": null,
      "metadata": {
        "id": "7gDzGmOHKnJM"
      },
      "outputs": [],
      "source": [
        "#@title generos - favoritos\n",
        "\n",
        "# Grafico de la media\n",
        "df = merged_df.groupby(\"genres\")[\"favorites_count\"].agg(['mean','median','std', 'count']).sort_values(by=\"count\", ascending=False)\n",
        "df[['mean']].plot(kind=\"bar\", color=\"skyblue\", edgecolor=\"black\")\n",
        "plt.title(\"Media en puntaje por ranking de favoritos\", fontsize=16)\n",
        "plt.xlabel(\"favoritos\", fontsize=12)\n",
        "plt.ylabel(\"Puntaje promedio\", fontsize=12)\n",
        "plt.xticks(rotation=90, fontsize=10)\n",
        "plt.grid(axis=\"y\", linestyle=\"--\", alpha=0.7)\n"
      ]
    },
    {
      "cell_type": "code",
      "execution_count": null,
      "metadata": {
        "id": "BNq8a_J-KnJM"
      },
      "outputs": [],
      "source": [
        "#@title emociones - fav\n",
        "\n",
        "\n",
        "# Grafico de la media\n",
        "df = merged_df.groupby(\"emotion\")[\"favorites_count\"].agg(['mean','median','std', 'count']).sort_values(by=\"count\", ascending=False)\n",
        "df[['mean']].plot(kind=\"bar\", color=\"skyblue\", edgecolor=\"black\")\n",
        "plt.title(\"Media en puntaje por ranking de favoritos\", fontsize=16)\n",
        "plt.xlabel(\"favoritos\", fontsize=12)\n",
        "plt.ylabel(\"Puntaje promedio\", fontsize=12)\n",
        "plt.xticks(rotation=90, fontsize=10)\n",
        "plt.grid(axis=\"y\", linestyle=\"--\", alpha=0.7)\n"
      ]
    },
    {
      "cell_type": "code",
      "execution_count": null,
      "metadata": {
        "id": "-mV6UPhyKnJN"
      },
      "outputs": [],
      "source": [
        "#@title emociones - popularidad\n",
        "\n",
        "# Grafico de la media\n",
        "df = merged_df.groupby(\"emotion\")[\"popularity_rank\"].agg(['mean','median','std', 'count']).sort_values(by=\"count\", ascending=False)\n",
        "df[['mean']].plot(kind=\"bar\", color=\"skyblue\", edgecolor=\"black\")\n",
        "plt.title(\"Media en puntaje por popularidad\", fontsize=16)\n",
        "plt.xlabel(\"popularidad\", fontsize=12)\n",
        "plt.ylabel(\"Puntaje promedio\", fontsize=12)\n",
        "plt.xticks(rotation=90, fontsize=10)\n",
        "plt.grid(axis=\"y\", linestyle=\"--\", alpha=0.7)"
      ]
    },
    {
      "cell_type": "markdown",
      "metadata": {
        "id": "ZZd8KHU9Y-nV"
      },
      "source": [
        "# New Section"
      ]
    },
    {
      "cell_type": "code",
      "execution_count": null,
      "metadata": {
        "id": "uwIb0Xe1-Dvu"
      },
      "outputs": [],
      "source": [
        "from matplotlib import pyplot as plt\n",
        "import seaborn as sns\n",
        "emociones_animes.groupby('emotion').size().plot(kind='barh', color=sns.palettes.mpl_palette('Dark2'))\n",
        "plt.gca().spines[['top', 'right',]].set_visible(False)\n",
        "plt.ylabel('Emociones')\n",
        "plt.xlabel('Cantidad')\n",
        "plt.title('Cantidad de animes por emoción')\n",
        "plt.show()"
      ]
    },
    {
      "cell_type": "code",
      "execution_count": null,
      "metadata": {
        "id": "rfdzQIaTG_m2"
      },
      "outputs": [],
      "source": [
        "\n",
        "anime_dataset_filt['popularidad_categoria'] = pd.cut(anime_dataset_filt['popularity_rank'],bins=[0, 2000, 4000, 6000, 8000, anime_dataset_filt['popularity_rank'].max()],labels=['Muy Popular', 'Popular', 'Moderado', 'Bajo', 'Muy Bajo'])\n",
        "\n",
        "\n",
        "# Función para obtener emociones para cada anime usando id_anime\n",
        "def obtener_emociones(id_anime):\n",
        "    # Filtramos emociones_animes para obtener las emociones asociadas a un id_anime\n",
        "    emociones = emociones_animes[emociones_animes['anime_id'] == id_anime]['emotion'].tolist()\n",
        "    return emociones\n",
        "\n",
        "# Crear una lista para almacenar los resultados\n",
        "emociones_popularidad = []\n",
        "\n",
        "# Recorrer cada anime en anime_dataset_filt\n",
        "for _, anime in anime_dataset_filt.iterrows():\n",
        "    # Obtener las emociones del anime\n",
        "    emociones = obtener_emociones(anime['anime_id'])\n",
        "    # Obtener la categoría de popularidad\n",
        "    categoria_popularidad = anime['popularidad_categoria']\n",
        "\n",
        "    # Guardar las emociones junto con la categoría de popularidad\n",
        "    for emocion in emociones:\n",
        "        emociones_popularidad.append([categoria_popularidad, emocion])\n",
        "\n",
        "# Convertir los resultados a un DataFrame\n",
        "df_emociones_popularidad = pd.DataFrame(emociones_popularidad, columns=['popularidad_categoria', 'emociones'])\n",
        "\n",
        "# Contar las emociones por popularidad\n",
        "emotion_counts = df_emociones_popularidad.groupby(['popularidad_categoria', 'emociones']).size().unstack(fill_value=0)\n",
        "categorias_ordenadas = ['Muy Popular', 'Popular', 'Moderado', 'Bajo', 'Muy Bajo']\n",
        "emotion_counts.index = pd.CategoricalIndex(emotion_counts.index, categories=categorias_ordenadas, ordered=True)\n",
        "\n",
        "emotion_counts = emotion_counts.sort_index()\n",
        "emotion_counts"
      ]
    },
    {
      "cell_type": "code",
      "execution_count": null,
      "metadata": {
        "id": "VXtEMSSWYhgX"
      },
      "outputs": [],
      "source": [
        "fig, axes = plt.subplots(1, 5, figsize=(20, 6), sharey=True)\n",
        "\n",
        "# Crear un gráfico para cada categoría\n",
        "for i, categoria in enumerate(emotion_counts.index):\n",
        "    ax = axes[i]\n",
        "    datos_categoria = emotion_counts.loc[categoria]\n",
        "    emotion_counts.loc[categoria].plot(kind='bar', ax=axes[i], color='skyblue', edgecolor='black')\n",
        "    axes[i].set_title(f'Popularidad: {categoria}')\n",
        "    axes[i].set_xlabel('Emociones')\n",
        "    axes[i].set_ylabel('Cantidad de Animes')\n",
        "    axes[i].tick_params(axis='x', rotation=45)\n",
        "\n",
        "    # Agregar los valores encima de las barras\n",
        "    for j, valor in enumerate(datos_categoria):\n",
        "        ax.text(j, valor + 0.5, str(valor), ha='center', va='bottom', fontsize=10)\n",
        "\n",
        "# Agregar la leyenda para los rangos de puntuación\n",
        "fig.text(0.5, 1.02, \"Cantidad De animes por Categorías de Popularidad y Emociones\", ha='center', va='center', fontsize=20)\n",
        "\n",
        "rango_puntuaciones = [\n",
        "    \"Muy Popular: 1 - 2000 Rango\",\n",
        "    \"Popular: 2001 - 4000 Rango\",\n",
        "    \"Moderado: 4001 - 6000 Rango\",\n",
        "    \"Bajo: 6001 - 8000 Rango\",\n",
        "    \"Muy Bajo: 8001 - 10000 Rango\"\n",
        "]\n",
        "fig.legend(\n",
        "    rango_puntuaciones,\n",
        "    loc=\"upper center\",\n",
        "    ncol=5,\n",
        "    bbox_to_anchor=(0.5, 1.15),\n",
        "    fontsize='medium',\n",
        "    frameon=False\n",
        ")\n",
        "\n",
        "# Ajustar el diseño\n",
        "plt.tight_layout(rect=[0, 0, 1, 0.95])  # Reservar espacio superior para la leyenda\n",
        "plt.show()"
      ]
    },
    {
      "cell_type": "code",
      "execution_count": null,
      "metadata": {
        "id": "eSs8j_63dsn3"
      },
      "outputs": [],
      "source": [
        "# Visualización: Gráfico de barras apiladas\n",
        "emotion_counts.sum(axis=1).plot(kind='bar', figsize=(10, 8), color = 'skyblue' )\n",
        "plt.title('Cantidad de animes por categoría de Popularidad')\n",
        "plt.xlabel('Categoría de popularidad')\n",
        "plt.ylabel('Cantidad de animes')\n",
        "plt.xticks(rotation=45)\n",
        "plt.show()"
      ]
    },
    {
      "cell_type": "code",
      "execution_count": null,
      "metadata": {
        "id": "rBPNr-X_kjaz"
      },
      "outputs": [],
      "source": [
        "\n",
        "# Crear las categorías de score en anime_dataset_filt\n",
        "anime_dataset_filt['score_categoria'] = pd.cut(anime_dataset_filt['score'],\n",
        "                                               bins=[0, 3, 5, 7, 8, 10],\n",
        "                                               labels=['Bajo', 'Medio Bajo', 'Medio Alto', 'Alto', 'Excelente'])\n",
        "\n",
        "# Función para obtener emociones para cada anime usando id_anime\n",
        "def obtener_emociones(id_anime):\n",
        "    # Filtramos emociones_animes para obtener las emociones asociadas a un id_anime\n",
        "    emociones = emociones_animes[emociones_animes['anime_id'] == id_anime]['emotion'].tolist()\n",
        "    return emociones\n",
        "\n",
        "# Crear una lista para almacenar los resultados\n",
        "emociones_score = []\n",
        "\n",
        "# Recorrer cada anime en anime_dataset_filt\n",
        "for _, anime in anime_dataset_filt.iterrows():\n",
        "    # Obtener las emociones del anime\n",
        "    emociones = obtener_emociones(anime['anime_id'])\n",
        "    # Obtener la categoría de score\n",
        "    categoria_score = anime['score_categoria']\n",
        "\n",
        "    # Guardar las emociones junto con la categoría de score\n",
        "    for emocion in emociones:\n",
        "        emociones_score.append([categoria_score, emocion])\n",
        "\n",
        "# Convertir los resultados a un DataFrame\n",
        "df_emociones_score = pd.DataFrame(emociones_score, columns=['score_categoria', 'emociones'])\n",
        "\n",
        "# Contar las emociones por score\n",
        "emotion_counts_score = df_emociones_score.groupby(['score_categoria', 'emociones']).size().unstack(fill_value=0)\n",
        "\n",
        "# Asegurar que los índices de score estén en el orden correcto\n",
        "# Especificar el orden de las categorías de score\n",
        "categorias_score_ordenadas = ['Bajo', 'Medio Bajo', 'Medio Alto', 'Alto', 'Excelente']\n",
        "emotion_counts_score.index = pd.CategoricalIndex(emotion_counts_score.index, categories=categorias_score_ordenadas, ordered=True)\n",
        "\n",
        "# Reorganizar el DataFrame para asegurar que el índice de score esté en el orden correcto\n",
        "emotion_counts_score = emotion_counts_score.sort_index()\n",
        "emotion_counts_score"
      ]
    },
    {
      "cell_type": "code",
      "execution_count": null,
      "metadata": {
        "id": "YlqC0n62mCS8"
      },
      "outputs": [],
      "source": [
        "fig, axes = plt.subplots(1, 5, figsize=(20, 6), sharey=True)\n",
        "\n",
        "# Crear un gráfico para cada categoría\n",
        "for i, categoria in enumerate(emotion_counts_score.index):\n",
        "    ax = axes[i]\n",
        "    datos_categoria = emotion_counts_score.loc[categoria]\n",
        "\n",
        "    # Crear el gráfico de barras\n",
        "    datos_categoria.plot(kind='bar', ax=ax, color='skyblue', edgecolor='black')\n",
        "\n",
        "    # Títulos y etiquetas\n",
        "    ax.set_title(f'Categoría: {categoria}')\n",
        "    ax.set_xlabel('Emociones')\n",
        "    ax.set_ylabel('Cantidad de Animes')\n",
        "    ax.tick_params(axis='x', rotation=45)\n",
        "\n",
        "    # Agregar los valores encima de las barras\n",
        "    for j, valor in enumerate(datos_categoria):\n",
        "        ax.text(j, valor + 0.5, str(valor), ha='center', va='bottom', fontsize=10)\n",
        "\n",
        "\n",
        "# Agregar la leyenda para los rangos de puntuación\n",
        "fig.text(0.5, 1.02, \"Animes por Categorías de Puntuación y Emociones\", ha='center', va='center', fontsize=20)\n",
        "\n",
        "rango_puntuaciones = [\n",
        "    \"Bajo: 0 - 2 puntos\",\n",
        "    \"Medio Bajo: 3 - 4 puntos\",\n",
        "    \"Medio Alto: 5 - 6 puntos\",\n",
        "    \"Alto: 7 - 8 puntos\",\n",
        "    \"Excelente: 9 - 10 puntos\"\n",
        "]\n",
        "fig.legend(\n",
        "\n",
        "    rango_puntuaciones,\n",
        "    loc=\"upper center\",\n",
        "    ncol=5,\n",
        "    bbox_to_anchor=(0.5, 1.15),\n",
        "    fontsize='medium',\n",
        "    frameon=False\n",
        ")\n",
        "\n",
        "# Ajustar el diseño\n",
        "plt.tight_layout(rect=[0, 0, 1, 0.95])  # Reservar espacio superior para la leyenda\n",
        "plt.show()\n"
      ]
    },
    {
      "cell_type": "markdown",
      "metadata": {
        "id": "DBoIQv4hmB7B"
      },
      "source": []
    },
    {
      "cell_type": "code",
      "execution_count": null,
      "metadata": {
        "id": "zOTyvU2-ZOcH"
      },
      "outputs": [],
      "source": [
        "# Crear el gráfico de barras simple\n",
        "ax = emotion_counts_score.sum(axis=1).plot(kind='bar', color='skyblue',figsize=(10, 6))\n",
        "\n",
        "# Establecer el título y las etiquetas\n",
        "plt.title('Cantidad de animes por categoría de Puntos')\n",
        "plt.xlabel('Categoría de Puntos')\n",
        "plt.ylabel('Cantidad de Animes')\n",
        "\n",
        "# Rotar las etiquetas del eje X\n",
        "plt.xticks(rotation=45)\n",
        "\n",
        "# Ajustar el diseño para evitar superposiciones\n",
        "plt.tight_layout()\n",
        "\n",
        "# Mostrar el gráfico\n",
        "plt.show()\n"
      ]
    }
  ],
  "metadata": {
    "colab": {
      "provenance": [],
      "gpuType": "T4",
      "include_colab_link": true
    },
    "kernelspec": {
      "display_name": "Python 3",
      "name": "python3"
    },
    "language_info": {
      "codemirror_mode": {
        "name": "ipython",
        "version": 3
      },
      "file_extension": ".py",
      "mimetype": "text/x-python",
      "name": "python",
      "nbconvert_exporter": "python",
      "pygments_lexer": "ipython3",
      "version": "3.11.1"
    },
    "accelerator": "GPU"
  },
  "nbformat": 4,
  "nbformat_minor": 0
}