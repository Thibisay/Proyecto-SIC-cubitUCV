{
 "cells": [
  {
   "cell_type": "code",
   "execution_count": null,
   "metadata": {
    "id": "TmDoAdUWhvwl"
   },
   "outputs": [],
   "source": [
    "#@title Importaciones\n",
    "from transformers import pipeline, AutoTokenizer, AutoModelForSeq2SeqLM\n",
    "import kagglehub, pandas as pd, os\n",
    "import numpy\n",
    "import pandas as pd\n",
    "import matplotlib.pyplot as plt\n",
    "import seaborn as sns\n"
   ]
  },
  {
   "cell_type": "code",
   "execution_count": null,
   "metadata": {
    "colab": {
     "base_uri": "https://localhost:8080/"
    },
    "id": "IRCVS3f_i36W",
    "outputId": "c452080a-56e0-46fa-e23d-2ca3b4a7be3a"
   },
   "outputs": [],
   "source": [
    "#@title Si estas desde colab\n",
    "path = kagglehub.dataset_download(\"svanoo/myanimelist-dataset\")\n",
    "\n",
    "#Seleccionando el archivo con los animes\n",
    "anime_dataset = pd.read_csv(f\"{path}/anime.csv\", sep = '\\t',on_bad_lines='skip')\n",
    "anime_emotion = pd.read_csv(\"./anime_emotion.csv\")"
   ]
  },
  {
   "cell_type": "code",
   "execution_count": null,
   "metadata": {
    "colab": {
     "base_uri": "https://localhost:8080/",
     "height": 339
    },
    "collapsed": true,
    "id": "0jnXQYs2i8xF",
    "outputId": "6e710b60-cb1d-4f8f-c4a8-e44de49a1610"
   },
   "outputs": [],
   "source": [
    "#@title Si no estas en colab\n",
    "\n",
    "anime_dataset = pd.read_csv(\"./anime.csv\", sep = '\\t',on_bad_lines='skip')\n",
    "anime_emotion = pd.read_csv(\"./anime_emotion.csv\")"
   ]
  },
  {
   "cell_type": "code",
   "execution_count": null,
   "metadata": {
    "id": "5Qydqt5bhvwm"
   },
   "outputs": [],
   "source": [
    "#@title importacion de archivos y formateo de columnas\n",
    "\n",
    "anime_dataset.columns = anime_dataset.columns.str.lower()\n",
    "anime_dataset.columns = anime_dataset.columns.str.replace(' ', '_')"
   ]
  },
  {
   "cell_type": "code",
   "execution_count": null,
   "metadata": {
    "id": "4yy3ZO3Dhvwm"
   },
   "outputs": [],
   "source": [
    "anime_dataset = anime_dataset[anime_dataset['anime_id'] != 44303] # anime que cumple con los 200 caracteres en synopsis pero no contiene datos utiles para su estudio\n",
    "anime_dataset_filt = pd.DataFrame(anime_dataset[ anime_dataset[\"synopsis\"].str.len() >= 200 ])\n",
    "anime_dataset_filt = anime_dataset_filt.sort_values(by='popularity_rank')\n",
    "anime_dataset_filt = anime_dataset_filt.dropna(subset=['score'])\n",
    "anime_dataset_filt.index = range(0,len(anime_dataset_filt))\n"
   ]
  },
  {
   "cell_type": "code",
   "execution_count": null,
   "metadata": {
    "cellView": "form",
    "colab": {
     "base_uri": "https://localhost:8080/",
     "height": 1000
    },
    "id": "DXiNKyNYhvwn",
    "outputId": "ef53c1cf-61f4-493c-b5c9-0c10a2b75352"
   },
   "outputs": [],
   "source": [
    "#@title normalizacion de los generos\n",
    "anime_dataset_filt['genres'] = anime_dataset_filt['genres'].apply(lambda x: x.split('|'))\n",
    "data_generos = pd.DataFrame(list(set(elemento for sublista in anime_dataset_filt['genres'] for elemento in sublista)), columns=['genres_name'])\n",
    "anime_genres_relation = anime_dataset_filt.explode('genres')[[\"anime_id\", \"genres\"]] # expande anime_dataset_filt para dividir las listas en filas individuales\n",
    "\n",
    "data_generos = anime_genres_relation.groupby('genres').size().reset_index(name='cantidad') # Agrupamos por el género y contamos la cantidad de animes en cada uno\n",
    "data_generos.columns = ['genres_name', 'cantidad']\n",
    "\n",
    "data_generos"
   ]
  },
  {
   "cell_type": "code",
   "execution_count": null,
   "metadata": {
    "cellView": "form",
    "colab": {
     "base_uri": "https://localhost:8080/"
    },
    "collapsed": true,
    "id": "M-mDu4gShvwn",
    "outputId": "9f67168b-8f0d-4a6a-bb7a-80f2bbe0a786"
   },
   "outputs": [],
   "source": [
    "#@title Eliminando columnas\n",
    "\n",
    "col_delete_list = [\"genres\",\"score_count\", \"score_rank\",\"type\", \"status\", \"num_episodes\", \"start_date\",\n",
    "                   \"end_date\", \"season\", \"studios\", \"clubs\", \"score_01_count\",\n",
    "                   \"score_02_count\", \"score_03_count\", \"score_04_count\", \"score_05_count\",\n",
    "                   \"score_06_count\", \"score_07_count\", \"score_08_count\", \"score_09_count\",\n",
    "                   \"score_10_count\", \"num_episodes\", \"watching_count\",\n",
    "                   \"completed_count\",\"on_hold_count\",\"dropped_count\"]\n",
    "\n",
    "filter_columns = list(filter(lambda x: True if x not in col_delete_list else False, list(anime_dataset_filt.columns)))\n",
    "\n",
    "anime_dataset_filt = anime_dataset_filt[filter_columns]\n",
    "\n",
    "anime_dataset_filt['longitud_synopsis_caracteres'] = anime_dataset_filt['synopsis'].apply(len)\n"
   ]
  },
  {
   "cell_type": "code",
   "execution_count": null,
   "metadata": {
    "cellView": "form",
    "colab": {
     "base_uri": "https://localhost:8080/",
     "height": 300
    },
    "id": "BIE5oFnMv-ln",
    "outputId": "e323be87-cdd7-4e28-89f9-aaf25eae8ae3"
   },
   "outputs": [],
   "source": [
    "#@title Analisis de correlacion entre longitud de sinopsis y la puntuacion\n",
    "\n",
    "correlacion_longSynop_populRank = anime_dataset_filt.select_dtypes(include=[float,int]).corr()\n",
    "\n",
    "correlacion_longSynop_populRank"
   ]
  },
  {
   "cell_type": "code",
   "execution_count": null,
   "metadata": {
    "cellView": "form",
    "colab": {
     "base_uri": "https://localhost:8080/",
     "height": 125
    },
    "id": "4vknVrn0hvwn",
    "outputId": "a67fbecc-1e38-47cf-a931-881c0a808137"
   },
   "outputs": [],
   "source": [
    "#@title Analisis de correlacion entre longitud de sinopsis y la puntuacion\n",
    "correlacion_longSynop_score = anime_dataset_filt[['longitud_synopsis_caracteres', 'score']].corr()\n",
    "\n",
    "\n",
    "# plt.scatter(anime_dataset_filt['longitud_synopsis_caracteres'], anime_dataset_filt['score'], color='blue')\n",
    "# plt.title('Relación entre Longitud de la Sinopsis y Rango de Popularidad')\n",
    "# plt.xlabel('Longitud de la Sinopsis')\n",
    "# plt.ylabel('La puntuación')\n",
    "# plt.show()\n",
    "anime_dataset_filt[['longitud_synopsis_caracteres', 'score']]\n",
    "anime_dataset_filt.groupby('score').agg({'score':'count'})\n",
    "correlacion_longSynop_score\n",
    "# anime_dataset_filt[[\"genres\", \"anime_id\"]]"
   ]
  },
  {
   "cell_type": "code",
   "execution_count": null,
   "metadata": {
    "cellView": "form",
    "colab": {
     "base_uri": "https://localhost:8080/"
    },
    "collapsed": true,
    "id": "r_F2IomKh45t",
    "outputId": "9ab0dcdc-2e93-4f1b-bb9d-f3d39ee67cb5"
   },
   "outputs": [],
   "source": [
    "#@title Modelo de IA, no ejecutar si estas en vsc\n",
    "\n",
    "\n",
    "# Cargar un pipeline de clasificación de emociones\n",
    "classifier = pipeline(\"text-classification\", model=\"j-hartmann/emotion-english-distilroberta-base\", return_all_scores=True)\n",
    "\n",
    "# Función para analizar emociones de un texto dado\n",
    "def detectar_emociones(texto):\n",
    "    resultados = classifier(texto)#aja yo estoy aqui\n",
    "    # Procesar y mostrar los resultados de manera ordenada\n",
    "    emociones = {resultado['label']: resultado['score'] for resultado in resultados[0]}\n",
    "    emociones_ordenadas = sorted(emociones.items(), key=lambda item: item[1], reverse=True)\n",
    "\n",
    "    return emociones_ordenadas\n",
    "\n",
    "# Ejemplo de uso\n",
    "texto = \"I'm going under and this time I fear there's no one to save me\"\n",
    "\n",
    "emociones_detectadas = detectar_emociones(texto)\n",
    "\n",
    "def print_results(emociones_detectadas):\n",
    "  print(\"Emociones detectadas:\")\n",
    "  for emocion, puntaje in emociones_detectadas:\n",
    "      print(f\"{emocion}: {puntaje:.2f}\")\n",
    "\n",
    "\n"
   ]
  },
  {
   "cell_type": "code",
   "execution_count": null,
   "metadata": {
    "cellView": "form",
    "collapsed": true,
    "id": "c04z9NlonKQW"
   },
   "outputs": [],
   "source": [
    "#@title Otro modelo no ejecutar\n",
    "\n",
    "\n",
    "# Cargar el modelo y el tokenizador T5 ajustado para emociones\n",
    "modelo_id = \"mrm8488/t5-base-finetuned-emotion\"\n",
    "tokenizer = AutoTokenizer.from_pretrained(modelo_id)\n",
    "modelo = AutoModelForSeq2SeqLM.from_pretrained(modelo_id)\n",
    "\n",
    "# Función para detectar la emoción principal en un texto dado\n",
    "def detectar_emocion_t5(texto):\n",
    "    # Preprocesar el texto para el modelo T5\n",
    "    entradas = tokenizer(\"emotion: \" + texto, return_tensors=\"pt\", padding=True)\n",
    "\n",
    "    # Generar la emoción usando el modelo\n",
    "    salida = modelo.generate(**entradas)\n",
    "\n",
    "    # Decodificar la emoción generada\n",
    "    emocion = tokenizer.decode(salida[0], skip_special_tokens=True)\n",
    "    return emocion\n",
    "\n"
   ]
  },
  {
   "cell_type": "code",
   "execution_count": null,
   "metadata": {
    "cellView": "form",
    "id": "KpzUr7kdiCsl"
   },
   "outputs": [],
   "source": [
    "#@title Clasificacion por emociones\n",
    "\n",
    "anime_dataset_filt[[\"title\", \"synopsis\"]].head()\n",
    "synopsis = anime_dataset_filt[\"synopsis\"].head()\n",
    "emociones_animes = pd.read_csv('anime_emotion.csv')\n",
    "i = 0\n",
    "for element in anime_dataset_filt[[\"anime_id\",\"title\", \"synopsis\"]][len(emociones_animes):].itertuples():\n",
    "  i += 1\n",
    "  emociones_animes.loc[len(emociones_animes)] = [element.anime_id, detectar_emocion_t5(element.synopsis)]\n",
    "  print(i)\n",
    "\n",
    "  emociones_animes.to_csv(\"anime_emotion.csv\", index=False)"
   ]
  },
  {
   "cell_type": "code",
   "execution_count": null,
   "metadata": {
    "colab": {
     "base_uri": "https://localhost:8080/",
     "height": 1000
    },
    "collapsed": true,
    "id": "OFxkNfNXHdcH",
    "outputId": "f6557ae3-3821-42b0-836e-3c39b8adfa1f"
   },
   "outputs": [],
   "source": [
    "#@title merge entre los animes y los generos\n",
    "\n",
    "\n",
    "anime_dataset_filt\n",
    "group_genres = list(anime_genres_relation.groupby(\"genres\"))\n",
    "merged_df = pd.merge(anime_dataset_filt, anime_genres_relation, on=\"anime_id\", how=\"left\")\n",
    "merged_df = pd.merge(merged_df, anime_emotion, on=\"anime_id\", how=\"left\")\n",
    "#merged_df.corr()\n",
    "merged_df"
   ]
  },
  {
   "cell_type": "code",
   "execution_count": null,
   "metadata": {
    "colab": {
     "base_uri": "https://localhost:8080/",
     "height": 1000
    },
    "id": "C5w1QBDXZH16",
    "outputId": "dec3b938-145f-4ae8-9823-dd8bebc857c6"
   },
   "outputs": [],
   "source": [
    "#@title Grafico de score promedio por genero\n",
    "# Grafico de la media\n",
    "df = merged_df.groupby(\"genres\")[\"score\"].agg(['mean','median','std', 'count']).sort_values(by=\"count\", ascending=False)\n",
    "df[['mean']].plot(kind=\"bar\", color=\"skyblue\", edgecolor=\"black\")\n",
    "plt.title(\"Media en puntaje por género\", fontsize=16)\n",
    "plt.xlabel(\"Género\", fontsize=12)\n",
    "plt.ylabel(\"Puntaje promedio\", fontsize=12)\n",
    "plt.xticks(rotation=90, fontsize=10)\n",
    "plt.grid(axis=\"y\", linestyle=\"--\", alpha=0.7)\n",
    "\n",
    "# Mostrar el gráfico\n",
    "plt.tight_layout()  # Ajustar para evitar recortes\n",
    "plt.show()\n",
    "\n",
    "# Grafico de la mediana\n",
    "df[['median']].plot(kind=\"bar\", color=\"skyblue\", edgecolor=\"black\")\n",
    "plt.title(\"Mediana en puntaje por género\", fontsize=16)\n",
    "plt.xlabel(\"Género\", fontsize=12)\n",
    "plt.ylabel(\"Puntaje promedio\", fontsize=12)\n",
    "plt.xticks(rotation=90, fontsize=10)\n",
    "plt.grid(axis=\"y\", linestyle=\"--\", alpha=0.7)\n",
    "plt.tight_layout()  # Ajustar para evitar recortes\n",
    "plt.show()\n",
    "\n",
    "# Grafico de la mediana\n",
    "df[['std']].plot(kind=\"bar\", color=\"skyblue\", edgecolor=\"black\")\n",
    "plt.title(\"Varianza de la puntuación por género\", fontsize=16)\n",
    "plt.xlabel(\"Género\", fontsize=12)\n",
    "plt.ylabel(\"Varianza\", fontsize=12)\n",
    "plt.xticks(rotation=90, fontsize=10)\n",
    "plt.grid(axis=\"y\", linestyle=\"--\", alpha=0.7)\n",
    "plt.tight_layout()  # Ajustar para evitar recortes\n",
    "plt.show()\n",
    "\n"
   ]
  },
  {
   "cell_type": "code",
   "execution_count": null,
   "metadata": {
    "colab": {
     "base_uri": "https://localhost:8080/",
     "height": 1000
    },
    "collapsed": true,
    "id": "wSKmWHcSIhxJ",
    "outputId": "8500323e-e12c-4312-83de-67d0ed8d4560"
   },
   "outputs": [],
   "source": [
    "#@title Correlación entre los géneros y el score\n",
    "import seaborn as sns\n",
    "\n",
    "df_encoded = pd.get_dummies(merged_df[['score','genres']], columns=['genres'])\n",
    "genre_score_corr = df_encoded.corr()['score'].drop('score')\n",
    "genre_score_corr.sort_values(ascending=False).plot(kind='bar', color='skyblue', edgecolor='black')\n",
    "plt.title('Correlación entre géneros y puntaje')\n",
    "plt.xlabel('Género')\n",
    "plt.ylabel('Correlación')\n",
    "plt.xticks(rotation=90, fontsize=7)\n",
    "plt.tight_layout()\n",
    "plt.show()\n",
    "\n",
    "plt.figure(figsize=(10, 8))\n",
    "sns.heatmap(df_encoded.corr(), annot=False, cmap='coolwarm', fmt=\".2f\")\n",
    "plt.title('Mapa de calor de correlaciones')\n",
    "plt.show()"
   ]
  },
  {
   "cell_type": "code",
   "execution_count": null,
   "metadata": {
    "colab": {
     "base_uri": "https://localhost:8080/",
     "height": 391
    },
    "id": "F6dBd1wuzlXG",
    "outputId": "156f8673-6ad1-464c-89ab-e7b3d60d098a"
   },
   "outputs": [],
   "source": [
    "#@title Frecuencia de popularidad en los géneros\n",
    "import seaborn as sns\n",
    "\n",
    "genre_dummies = pd.get_dummies(merged_df[['popularity_rank','genres']], columns=['genres'])\n",
    "genre_frequency = genre_dummies.sum()\n",
    "anime_with_genres = pd.concat([merged_df, genre_dummies], axis=1)\n",
    "genre_scores = anime_with_genres.drop(columns=['genres']).groupby(genre_dummies.columns, axis=1).mean().mean()\n",
    "genre_scores\n",
    "\n"
   ]
  },
  {
   "cell_type": "code",
   "execution_count": null,
   "metadata": {
    "id": "5HmfoHbOo2qD"
   },
   "outputs": [],
   "source": [
    "#@title Grafico de score promedio por genero\n",
    "# Grafico de la media\n",
    "df = merged_df.groupby(\"genres\")[\"score\"].agg(['mean','median','std', 'count']).sort_values(by=\"count\", ascending=False)\n",
    "df[['mean']].plot(kind=\"bar\", color=\"skyblue\", edgecolor=\"black\")\n",
    "plt.title(\"Media en puntaje por género\", fontsize=16)\n",
    "plt.xlabel(\"Género\", fontsize=12)\n",
    "plt.ylabel(\"Puntaje promedio\", fontsize=12)\n",
    "plt.xticks(rotation=90, fontsize=10)\n",
    "plt.grid(axis=\"y\", linestyle=\"--\", alpha=0.7)\n",
    "\n",
    "# Mostrar el gráfico\n",
    "plt.tight_layout()  # Ajustar para evitar recortes\n",
    "plt.show()\n",
    "\n",
    "# Grafico de la mediana\n",
    "df[['median']].plot(kind=\"bar\", color=\"skyblue\", edgecolor=\"black\")\n",
    "plt.title(\"Mediana en puntaje por género\", fontsize=16)\n",
    "plt.xlabel(\"Género\", fontsize=12)\n",
    "plt.ylabel(\"Puntaje promedio\", fontsize=12)\n",
    "plt.xticks(rotation=90, fontsize=10)\n",
    "plt.grid(axis=\"y\", linestyle=\"--\", alpha=0.7)\n",
    "plt.tight_layout()  # Ajustar para evitar recortes\n",
    "plt.show()\n",
    "\n",
    "# Grafico de la mediana\n",
    "df[['std']].plot(kind=\"bar\", color=\"skyblue\", edgecolor=\"black\")\n",
    "plt.title(\"Varianza de la puntuación por género\", fontsize=16)\n",
    "plt.xlabel(\"Género\", fontsize=12)\n",
    "plt.ylabel(\"Varianza\", fontsize=12)\n",
    "plt.xticks(rotation=90, fontsize=10)\n",
    "plt.grid(axis=\"y\", linestyle=\"--\", alpha=0.7)\n",
    "plt.tight_layout()  # Ajustar para evitar recortes\n",
    "plt.show()\n",
    "\n"
   ]
  },
  {
   "cell_type": "code",
   "execution_count": null,
   "metadata": {
    "colab": {
     "base_uri": "https://localhost:8080/",
     "height": 1000
    },
    "id": "9srLXn0Uf3FR",
    "outputId": "3a5449b1-b415-470e-d782-667d8024ac5b"
   },
   "outputs": [],
   "source": [
    "#@title Analisis de emociones con la puntuación\n",
    "\n",
    "#@title Grafico de score promedio por genero\n",
    "# Grafico de la media\n",
    "df = merged_df.groupby(\"emotion\")[\"score\"].agg(['mean','median','std', 'count']).sort_values(by=\"count\", ascending=False)\n",
    "df[['mean']].plot(kind=\"bar\", color=\"skyblue\", edgecolor=\"black\", legend=False)\n",
    "plt.title(\"Media en puntaje por emoción\", fontsize=16)\n",
    "plt.xlabel(\"Emoción\", fontsize=12)\n",
    "plt.ylabel(\"Puntaje promedio\", fontsize=12)\n",
    "plt.xticks(rotation=90, fontsize=10)\n",
    "plt.grid(axis=\"y\", linestyle=\"--\", alpha=0.7)\n",
    "\n",
    "# Mostrar el gráfico\n",
    "plt.tight_layout()  # Ajustar para evitar recortes\n",
    "plt.show()\n",
    "\n",
    "# Grafico de la mediana\n",
    "df[['median']].plot(kind=\"bar\", color=\"skyblue\", edgecolor=\"black\", legend=False)\n",
    "plt.title(\"Mediana en puntaje por emoción\", fontsize=16)\n",
    "plt.xlabel(\"Emoción\", fontsize=12)\n",
    "plt.ylabel(\"Puntaje promedio\", fontsize=12)\n",
    "plt.xticks(rotation=90, fontsize=10)\n",
    "plt.grid(axis=\"y\", linestyle=\"--\", alpha=0.7)\n",
    "plt.tight_layout()  # Ajustar para evitar recortes\n",
    "plt.show()\n",
    "\n",
    "# Grafico de la mediana\n",
    "df[['std']].plot(kind=\"bar\", color=\"skyblue\", edgecolor=\"black\", legend=False)\n",
    "plt.title(\"Varianza de la puntuación por emoción\", fontsize=16)\n",
    "plt.xlabel(\"Emoción\", fontsize=12)\n",
    "plt.ylabel(\"Varianza\", fontsize=12)\n",
    "plt.xticks(rotation=90, fontsize=10)\n",
    "plt.grid(axis=\"y\", linestyle=\"--\", alpha=0.7)\n",
    "plt.tight_layout()  # Ajustar para evitar recortes\n",
    "plt.show()\n",
    "\n"
   ]
  },
  {
   "cell_type": "code",
   "execution_count": null,
   "metadata": {
    "colab": {
     "base_uri": "https://localhost:8080/",
     "height": 1000
    },
    "id": "JxiHg32RlKwp",
    "outputId": "2e00a3c9-3f96-4e8f-d998-5e008b1f6fde"
   },
   "outputs": [],
   "source": [
    "#@title Correlación entre los géneros y el score\n",
    "import seaborn as sns\n",
    "\n",
    "df_encoded = pd.get_dummies(merged_df[['score','emotion']], columns=['emotion'])\n",
    "genre_score_corr = df_encoded.corr()['score'].drop('score')\n",
    "genre_score_corr.sort_values(ascending=False).plot(kind='bar', color='skyblue', edgecolor='black')\n",
    "plt.title('Correlación entre emociones y puntaje')\n",
    "plt.xlabel('Emoción')\n",
    "plt.ylabel('Correlación')\n",
    "plt.xticks(rotation=90, fontsize=7)\n",
    "plt.tight_layout()\n",
    "plt.show()\n",
    "\n",
    "plt.figure(figsize=(10, 8))\n",
    "sns.heatmap(df_encoded.corr(), annot=True, cmap='coolwarm', fmt=\".2f\")\n",
    "plt.title('Mapa de calor de correlaciones')\n",
    "plt.show()"
   ]
  },
  {
   "cell_type": "markdown",
   "metadata": {
    "id": "ZZd8KHU9Y-nV"
   },
   "source": [
    "# New Section"
   ]
  },
  {
   "cell_type": "code",
   "execution_count": null,
   "metadata": {
    "colab": {
     "base_uri": "https://localhost:8080/",
     "height": 472
    },
    "id": "uwIb0Xe1-Dvu",
    "outputId": "ffd714a2-9a5a-4fcc-d10a-24adfa9e3273"
   },
   "outputs": [],
   "source": [
    "from matplotlib import pyplot as plt\n",
    "import seaborn as sns\n",
    "emociones_animes.groupby('emotion').size().plot(kind='barh', color=sns.palettes.mpl_palette('Dark2'))\n",
    "plt.gca().spines[['top', 'right',]].set_visible(False)\n",
    "plt.ylabel('Emociones')\n",
    "plt.xlabel('Cantidad')\n",
    "plt.title('Cantidad de animes por emoción')\n",
    "plt.show()"
   ]
  },
  {
   "cell_type": "code",
   "execution_count": null,
   "metadata": {
    "colab": {
     "base_uri": "https://localhost:8080/",
     "height": 238
    },
    "id": "rfdzQIaTG_m2",
    "outputId": "f54f16e5-46ff-493f-adb4-157c7c47fd68"
   },
   "outputs": [],
   "source": [
    "\n",
    "anime_dataset_filt['popularidad_categoria'] = pd.cut(anime_dataset_filt['popularity_rank'],bins=[0, 2000, 4000, 6000, 8000, anime_dataset_filt['popularity_rank'].max()],labels=['Muy Popular', 'Popular', 'Moderado', 'Bajo', 'Muy Bajo'])\n",
    "\n",
    "\n",
    "# Función para obtener emociones para cada anime usando id_anime\n",
    "def obtener_emociones(id_anime):\n",
    "    # Filtramos emociones_animes para obtener las emociones asociadas a un id_anime\n",
    "    emociones = emociones_animes[emociones_animes['anime_id'] == id_anime]['emotion'].tolist()\n",
    "    return emociones\n",
    "\n",
    "# Crear una lista para almacenar los resultados\n",
    "emociones_popularidad = []\n",
    "\n",
    "# Recorrer cada anime en anime_dataset_filt\n",
    "for _, anime in anime_dataset_filt.iterrows():\n",
    "    # Obtener las emociones del anime\n",
    "    emociones = obtener_emociones(anime['anime_id'])\n",
    "    # Obtener la categoría de popularidad\n",
    "    categoria_popularidad = anime['popularidad_categoria']\n",
    "\n",
    "    # Guardar las emociones junto con la categoría de popularidad\n",
    "    for emocion in emociones:\n",
    "        emociones_popularidad.append([categoria_popularidad, emocion])\n",
    "\n",
    "# Convertir los resultados a un DataFrame\n",
    "df_emociones_popularidad = pd.DataFrame(emociones_popularidad, columns=['popularidad_categoria', 'emociones'])\n",
    "\n",
    "# Contar las emociones por popularidad\n",
    "emotion_counts = df_emociones_popularidad.groupby(['popularidad_categoria', 'emociones']).size().unstack(fill_value=0)\n",
    "categorias_ordenadas = ['Muy Popular', 'Popular', 'Moderado', 'Bajo', 'Muy Bajo']\n",
    "emotion_counts.index = pd.CategoricalIndex(emotion_counts.index, categories=categorias_ordenadas, ordered=True)\n",
    "\n",
    "emotion_counts = emotion_counts.sort_index()\n",
    "emotion_counts"
   ]
  },
  {
   "cell_type": "code",
   "execution_count": null,
   "metadata": {
    "colab": {
     "base_uri": "https://localhost:8080/",
     "height": 669
    },
    "id": "VXtEMSSWYhgX",
    "outputId": "799f7fdc-6c98-45ae-eb6f-f446347da4bf"
   },
   "outputs": [],
   "source": [
    "fig, axes = plt.subplots(1, 5, figsize=(20, 6), sharey=True)\n",
    "\n",
    "# Crear un gráfico para cada categoría\n",
    "for i, categoria in enumerate(emotion_counts.index):\n",
    "    ax = axes[i]\n",
    "    datos_categoria = emotion_counts.loc[categoria]\n",
    "    emotion_counts.loc[categoria].plot(kind='bar', ax=axes[i], color='skyblue', edgecolor='black')\n",
    "    axes[i].set_title(f'Popularidad: {categoria}')\n",
    "    axes[i].set_xlabel('Emociones')\n",
    "    axes[i].set_ylabel('Cantidad de Animes')\n",
    "    axes[i].tick_params(axis='x', rotation=45)\n",
    "\n",
    "    # Agregar los valores encima de las barras\n",
    "    for j, valor in enumerate(datos_categoria):\n",
    "        ax.text(j, valor + 0.5, str(valor), ha='center', va='bottom', fontsize=10)\n",
    "\n",
    "# Agregar la leyenda para los rangos de puntuación\n",
    "fig.text(0.5, 1.02, \"Cantidad De animes por Categorías de Popularidad y Emociones\", ha='center', va='center', fontsize=20)\n",
    "\n",
    "rango_puntuaciones = [\n",
    "    \"Muy Popular: 1 - 2000 Rango\",\n",
    "    \"Popular: 2001 - 4000 Rango\",\n",
    "    \"Moderado: 4001 - 6000 Rango\",\n",
    "    \"Bajo: 6001 - 8000 Rango\",\n",
    "    \"Muy Bajo: 8001 - 10000 Rango\"\n",
    "]\n",
    "fig.legend(\n",
    "    rango_puntuaciones,\n",
    "    loc=\"upper center\",\n",
    "    ncol=5,\n",
    "    bbox_to_anchor=(0.5, 1.15),\n",
    "    fontsize='medium',\n",
    "    frameon=False\n",
    ")\n",
    "\n",
    "# Ajustar el diseño\n",
    "plt.tight_layout(rect=[0, 0, 1, 0.95])  # Reservar espacio superior para la leyenda\n",
    "plt.show()"
   ]
  },
  {
   "cell_type": "code",
   "execution_count": null,
   "metadata": {
    "colab": {
     "base_uri": "https://localhost:8080/",
     "height": 776
    },
    "id": "eSs8j_63dsn3",
    "outputId": "9402d70c-d556-47fc-c1b6-0cf6bac51d10"
   },
   "outputs": [],
   "source": [
    "# Visualización: Gráfico de barras apiladas\n",
    "emotion_counts.sum(axis=1).plot(kind='bar', figsize=(10, 8), color = 'skyblue' )\n",
    "plt.title('Cantidad de animes por categoría de Popularidad')\n",
    "plt.xlabel('Categoría de popularidad')\n",
    "plt.ylabel('Cantidad de animes')\n",
    "plt.xticks(rotation=45)\n",
    "plt.show()"
   ]
  },
  {
   "cell_type": "code",
   "execution_count": null,
   "metadata": {
    "colab": {
     "base_uri": "https://localhost:8080/",
     "height": 238
    },
    "id": "rBPNr-X_kjaz",
    "outputId": "dbb96128-b2d3-4473-d70d-eecc5bc78811"
   },
   "outputs": [],
   "source": [
    "\n",
    "# Crear las categorías de score en anime_dataset_filt\n",
    "anime_dataset_filt['score_categoria'] = pd.cut(anime_dataset_filt['score'],\n",
    "                                               bins=[0, 3, 5, 7, 8, 10],\n",
    "                                               labels=['Bajo', 'Medio Bajo', 'Medio Alto', 'Alto', 'Excelente'])\n",
    "\n",
    "# Función para obtener emociones para cada anime usando id_anime\n",
    "def obtener_emociones(id_anime):\n",
    "    # Filtramos emociones_animes para obtener las emociones asociadas a un id_anime\n",
    "    emociones = emociones_animes[emociones_animes['anime_id'] == id_anime]['emotion'].tolist()\n",
    "    return emociones\n",
    "\n",
    "# Crear una lista para almacenar los resultados\n",
    "emociones_score = []\n",
    "\n",
    "# Recorrer cada anime en anime_dataset_filt\n",
    "for _, anime in anime_dataset_filt.iterrows():\n",
    "    # Obtener las emociones del anime\n",
    "    emociones = obtener_emociones(anime['anime_id'])\n",
    "    # Obtener la categoría de score\n",
    "    categoria_score = anime['score_categoria']\n",
    "\n",
    "    # Guardar las emociones junto con la categoría de score\n",
    "    for emocion in emociones:\n",
    "        emociones_score.append([categoria_score, emocion])\n",
    "\n",
    "# Convertir los resultados a un DataFrame\n",
    "df_emociones_score = pd.DataFrame(emociones_score, columns=['score_categoria', 'emociones'])\n",
    "\n",
    "# Contar las emociones por score\n",
    "emotion_counts_score = df_emociones_score.groupby(['score_categoria', 'emociones']).size().unstack(fill_value=0)\n",
    "\n",
    "# Asegurar que los índices de score estén en el orden correcto\n",
    "# Especificar el orden de las categorías de score\n",
    "categorias_score_ordenadas = ['Bajo', 'Medio Bajo', 'Medio Alto', 'Alto', 'Excelente']\n",
    "emotion_counts_score.index = pd.CategoricalIndex(emotion_counts_score.index, categories=categorias_score_ordenadas, ordered=True)\n",
    "\n",
    "# Reorganizar el DataFrame para asegurar que el índice de score esté en el orden correcto\n",
    "emotion_counts_score = emotion_counts_score.sort_index()\n",
    "emotion_counts_score"
   ]
  },
  {
   "cell_type": "code",
   "execution_count": null,
   "metadata": {
    "colab": {
     "base_uri": "https://localhost:8080/",
     "height": 669
    },
    "id": "YlqC0n62mCS8",
    "outputId": "aa4efce6-4a1d-4969-8147-1f0774a5abdc"
   },
   "outputs": [],
   "source": [
    "fig, axes = plt.subplots(1, 5, figsize=(20, 6), sharey=True)\n",
    "\n",
    "# Crear un gráfico para cada categoría\n",
    "for i, categoria in enumerate(emotion_counts_score.index):\n",
    "    ax = axes[i]\n",
    "    datos_categoria = emotion_counts_score.loc[categoria]\n",
    "\n",
    "    # Crear el gráfico de barras\n",
    "    datos_categoria.plot(kind='bar', ax=ax, color='skyblue', edgecolor='black')\n",
    "\n",
    "    # Títulos y etiquetas\n",
    "    ax.set_title(f'Categoría: {categoria}')\n",
    "    ax.set_xlabel('Emociones')\n",
    "    ax.set_ylabel('Cantidad de Animes')\n",
    "    ax.tick_params(axis='x', rotation=45)\n",
    "\n",
    "    # Agregar los valores encima de las barras\n",
    "    for j, valor in enumerate(datos_categoria):\n",
    "        ax.text(j, valor + 0.5, str(valor), ha='center', va='bottom', fontsize=10)\n",
    "\n",
    "\n",
    "# Agregar la leyenda para los rangos de puntuación\n",
    "fig.text(0.5, 1.02, \"Animes por Categorías de Puntuación y Emociones\", ha='center', va='center', fontsize=20)\n",
    "\n",
    "rango_puntuaciones = [\n",
    "    \"Bajo: 0 - 2 puntos\",\n",
    "    \"Medio Bajo: 3 - 4 puntos\",\n",
    "    \"Medio Alto: 5 - 6 puntos\",\n",
    "    \"Alto: 7 - 8 puntos\",\n",
    "    \"Excelente: 9 - 10 puntos\"\n",
    "]\n",
    "fig.legend(\n",
    "\n",
    "    rango_puntuaciones,\n",
    "    loc=\"upper center\",\n",
    "    ncol=5,\n",
    "    bbox_to_anchor=(0.5, 1.15),\n",
    "    fontsize='medium',\n",
    "    frameon=False\n",
    ")\n",
    "\n",
    "# Ajustar el diseño\n",
    "plt.tight_layout(rect=[0, 0, 1, 0.95])  # Reservar espacio superior para la leyenda\n",
    "plt.show()\n"
   ]
  },
  {
   "cell_type": "markdown",
   "metadata": {
    "id": "DBoIQv4hmB7B"
   },
   "source": []
  },
  {
   "cell_type": "code",
   "execution_count": null,
   "metadata": {
    "colab": {
     "base_uri": "https://localhost:8080/",
     "height": 607
    },
    "id": "zOTyvU2-ZOcH",
    "outputId": "c50e0c2a-511f-4d31-cf1c-3aeef20a34a5"
   },
   "outputs": [],
   "source": [
    "# Crear el gráfico de barras simple\n",
    "ax = emotion_counts_score.sum(axis=1).plot(kind='bar', color='skyblue',figsize=(10, 6))\n",
    "\n",
    "# Establecer el título y las etiquetas\n",
    "plt.title('Cantidad de animes por categoría de Puntos')\n",
    "plt.xlabel('Categoría de Puntos')\n",
    "plt.ylabel('Cantidad de Animes')\n",
    "\n",
    "# Rotar las etiquetas del eje X\n",
    "plt.xticks(rotation=45)\n",
    "\n",
    "# Ajustar el diseño para evitar superposiciones\n",
    "plt.tight_layout()\n",
    "\n",
    "# Mostrar el gráfico\n",
    "plt.show()\n"
   ]
  }
 ],
 "metadata": {
  "colab": {
   "provenance": []
  },
  "kernelspec": {
   "display_name": ".venv",
   "language": "python",
   "name": "python3"
  },
  "language_info": {
   "codemirror_mode": {
    "name": "ipython",
    "version": 3
   },
   "file_extension": ".py",
   "mimetype": "text/x-python",
   "name": "python",
   "nbconvert_exporter": "python",
   "pygments_lexer": "ipython3",
   "version": "3.11.1"
  }
 },
 "nbformat": 4,
 "nbformat_minor": 0
}
